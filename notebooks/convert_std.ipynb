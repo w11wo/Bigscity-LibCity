{
 "cells": [
  {
   "cell_type": "code",
   "execution_count": null,
   "id": "8eba05a3",
   "metadata": {},
   "outputs": [],
   "source": [
    "from pathlib import Path\n",
    "import pandas as pd\n",
    "import json\n",
    "\n",
    "path = Path(\"data\")\n",
    "output_path = Path(\"raw_data\")\n",
    "\n",
    "config = {\n",
    "    \"geo\": {\"including_types\": [\"Point\"], \"Point\": {\"venue_category_id\": \"enum\", \"venue_category_name\": \"enum\"}},\n",
    "    \"usr\": {\"properties\": {}},\n",
    "    \"dyna\": {\"including_types\": [\"trajectory\"], \"trajectory\": {\"entity_id\": \"usr_id\", \"location\": \"geo_id\"}},\n",
    "    \"info\": {\"distance_upper\": 30.0},\n",
    "}\n",
    "\n",
    "def create_dyna(city):\n",
    "    output_dir = output_path / f\"std_{city}\"\n",
    "    output_dir.mkdir(parents=True, exist_ok=True)\n",
    "\n",
    "    df = pd.read_csv(path / city / f\"{city}_checkins.csv\")\n",
    "    dyna = df[[\"trail_id\", \"user_id\", \"venue_id\", \"timestamp\"]]\n",
    "    dyna[\"timestamp\"] = pd.to_datetime(dyna[\"timestamp\"]).dt.strftime(\"%Y-%m-%dT%H:%M:%SZ\")\n",
    "    dyna[\"type\"] = [\"trajectory\"] * len(dyna)\n",
    "    # hash trail_id to create dyna_id int\n",
    "    trails = sorted(dyna[\"trail_id\"].unique())\n",
    "    trail_to_id = {trail: i for i, trail in enumerate(trails)}\n",
    "    # hash user_id to create entity_id int\n",
    "    users = sorted(dyna[\"user_id\"].unique())\n",
    "    user_to_id = {user: i for i, user in enumerate(users)}\n",
    "    dyna[\"entity_id\"] = dyna[\"user_id\"].map(user_to_id)\n",
    "    # hash venue_id to create location int\n",
    "    venues = sorted(dyna[\"venue_id\"].unique())\n",
    "    venue_to_id = {venue: i for i, venue in enumerate(venues)}\n",
    "    dyna[\"location\"] = dyna[\"venue_id\"].map(venue_to_id)\n",
    "    dyna[\"dyna_id\"] = dyna[\"trail_id\"].map(trail_to_id)\n",
    "    dyna = dyna.rename(columns={\"timestamp\": \"time\"})\n",
    "    dyna = dyna.reindex(columns=[\"dyna_id\", \"type\", \"time\", \"entity_id\", \"location\"])\n",
    "    dyna.to_csv(output_dir / f\"std_{city}.dyna\", index=False)\n",
    "\n",
    "    poi = df[[\"venue_id\", \"venue_city_longitude\", \"venue_city_latitude\", \"venue_category_id\", \"venue_category\"]]\n",
    "    poi[\"coordinates\"] = poi.apply(lambda x: f\"[{x['venue_city_longitude']},{x['venue_city_latitude']}]\", axis=1)\n",
    "    poi[\"geo_id\"] = poi[\"venue_id\"].map(venue_to_id)\n",
    "    poi[\"type\"] = [\"Point\"] * len(poi)\n",
    "    poi = poi.rename(columns={\"venue_category\": \"venue_category_name\"})\n",
    "    poi = poi.reindex(columns=[\"geo_id\", \"type\", \"coordinates\", \"venue_category_id\", \"venue_category_name\"])\n",
    "    poi = poi.drop_duplicates()\n",
    "    poi.to_csv(output_dir / f\"std_{city}.geo\", index=False)\n",
    "\n",
    "    with open(output_dir / f\"config.json\", \"w\") as f:\n",
    "        json.dump(config, f, indent=4)"
   ]
  },
  {
   "cell_type": "code",
   "execution_count": 3,
   "id": "0f25cf50",
   "metadata": {},
   "outputs": [],
   "source": [
    "for city in [\"beijing\", \"istanbul\", \"jakarta\", \"kuwait_city\", \"melbourne\", \"moscow\", \"new_york\", \"petaling_jaya\", \"sao_paulo\", \"shanghai\", \"sydney\", \"tokyo\"]:\n",
    "    create_dyna(city)"
   ]
  },
  {
   "cell_type": "code",
   "execution_count": null,
   "id": "9dd4ed45",
   "metadata": {},
   "outputs": [],
   "source": []
  }
 ],
 "metadata": {
  "kernelspec": {
   "display_name": "Python 3",
   "language": "python",
   "name": "python3"
  },
  "language_info": {
   "codemirror_mode": {
    "name": "ipython",
    "version": 3
   },
   "file_extension": ".py",
   "mimetype": "text/x-python",
   "name": "python",
   "nbconvert_exporter": "python",
   "pygments_lexer": "ipython3",
   "version": "3.12.0"
  }
 },
 "nbformat": 4,
 "nbformat_minor": 5
}
